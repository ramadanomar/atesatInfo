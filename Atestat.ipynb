{
  "nbformat": 4,
  "nbformat_minor": 0,
  "metadata": {
    "colab": {
      "name": "Atestat.ipynb",
      "provenance": [],
      "collapsed_sections": [],
      "toc_visible": true,
      "authorship_tag": "ABX9TyP+58Lw9hkra67sq8Lfi6Uu",
      "include_colab_link": true
    },
    "kernelspec": {
      "name": "python3",
      "display_name": "Python 3"
    },
    "language_info": {
      "name": "python"
    },
    "accelerator": "GPU"
  },
  "cells": [
    {
      "cell_type": "markdown",
      "metadata": {
        "id": "view-in-github",
        "colab_type": "text"
      },
      "source": [
        "<a href=\"https://colab.research.google.com/github/spaceyyn/atesatInfo/blob/main/Atestat.ipynb\" target=\"_parent\"><img src=\"https://colab.research.google.com/assets/colab-badge.svg\" alt=\"Open In Colab\"/></a>"
      ]
    },
    {
      "cell_type": "markdown",
      "source": [
        "#Codul Sursa\n",
        "Scris de Ramadan Omar, elev al colegiului National \"I.L. Caragiale\" Bucuresti"
      ],
      "metadata": {
        "id": "5HyOYfckST89"
      }
    },
    {
      "cell_type": "markdown",
      "source": [
        "#Importarea librariilor\n"
      ],
      "metadata": {
        "id": "DPj5KvJqSdWU"
      }
    },
    {
      "cell_type": "code",
      "source": [
        "import tensorflow as tf\n",
        "import keras\n",
        "from keras.datasets import mnist\n",
        "from keras.models import Sequential\n",
        "from keras.layers import Dense, Dropout, Flatten, Conv2D, MaxPooling2D\n",
        "from keras import backend as K\n",
        "import numpy as np"
      ],
      "metadata": {
        "id": "9T4ndTlJSJVM"
      },
      "execution_count": 1,
      "outputs": []
    },
    {
      "cell_type": "markdown",
      "source": [
        "#Impartirea setului de date intr-un set de antrenament si un set de test"
      ],
      "metadata": {
        "id": "fVPcmwonSkzF"
      }
    },
    {
      "cell_type": "code",
      "source": [
        "(x_train, y_train), (x_test, y_test) = mnist.load_data()"
      ],
      "metadata": {
        "colab": {
          "base_uri": "https://localhost:8080/"
        },
        "id": "UPvD202LSmct",
        "outputId": "6f286ee4-f856-4c6e-9e95-4fcd2c6ce3e3"
      },
      "execution_count": 2,
      "outputs": [
        {
          "output_type": "stream",
          "name": "stdout",
          "text": [
            "Downloading data from https://storage.googleapis.com/tensorflow/tf-keras-datasets/mnist.npz\n",
            "11493376/11490434 [==============================] - 0s 0us/step\n",
            "11501568/11490434 [==============================] - 0s 0us/step\n"
          ]
        }
      ]
    },
    {
      "cell_type": "markdown",
      "source": [
        "#Preprocesarea Datelor"
      ],
      "metadata": {
        "id": "Coy8B8gmSpbl"
      }
    },
    {
      "cell_type": "code",
      "source": [
        "x_train = x_train.reshape(x_train.shape[0], 28, 28, 1) #Am adaugat inca un rand\n",
        "x_test = x_test.reshape(x_test.shape[0], 28, 28, 1) #Pentru CNN\n",
        "input_shape = (28, 28, 1) \n"
      ],
      "metadata": {
        "id": "VGi-y6oXSwhs"
      },
      "execution_count": 3,
      "outputs": []
    },
    {
      "cell_type": "markdown",
      "source": [
        "Din vector in matrice binara ( One Hot Encoding )"
      ],
      "metadata": {
        "id": "Fdgps1MUSzmE"
      }
    },
    {
      "cell_type": "code",
      "source": [
        "y_train = tf.keras.utils.to_categorical(y_train, 10) # 10 Cifre\n",
        "y_test = tf.keras.utils.to_categorical(y_test, 10) # 10 Cifre"
      ],
      "metadata": {
        "id": "2oLcODguS4Hs"
      },
      "execution_count": 4,
      "outputs": []
    },
    {
      "cell_type": "markdown",
      "source": [
        "Scalarea pixelilor in [0,1]"
      ],
      "metadata": {
        "id": "xXhsGE_nS5yM"
      }
    },
    {
      "cell_type": "code",
      "source": [
        "x_train = x_train.astype('float32')\n",
        "x_test = x_test.astype('float32')\n",
        "x_train /= 255\n",
        "x_test /= 255"
      ],
      "metadata": {
        "id": "at2hUV6VS9Rj"
      },
      "execution_count": 5,
      "outputs": []
    },
    {
      "cell_type": "markdown",
      "source": [
        "\n",
        "#Pregatirea pentru NonLiniaritate"
      ],
      "metadata": {
        "id": "-asuoPCvS_oN"
      }
    },
    {
      "cell_type": "code",
      "source": [
        "batch_size = 128\n",
        "epochs = 10"
      ],
      "metadata": {
        "id": "nnX6JxV5TR2r"
      },
      "execution_count": 6,
      "outputs": []
    },
    {
      "cell_type": "markdown",
      "source": [
        "#Reteaua Neuronala Convolutionala"
      ],
      "metadata": {
        "id": "kY926Fb9TB_M"
      }
    },
    {
      "cell_type": "code",
      "source": [
        "model = Sequential()\n",
        "model.add(Conv2D(32, kernel_size =(3, 3), activation='relu', input_shape = input_shape))\n",
        "model.add(Conv2D(64, (3, 3), activation= 'relu'))\n",
        "\n",
        "model.add(MaxPooling2D(pool_size=(2, 2)))\n",
        "model.add(Dropout(0.25))\n",
        "model.add(Flatten())\n",
        "\n",
        "model.add(Dense(256, activation='relu'))\n",
        "model.add(Dense(256, activation='relu'))\n",
        "model.add(Dropout(0.5))\n",
        "\n",
        "model.add(Dense(10, activation = 'softmax'))\n",
        "\n",
        "model.compile(loss=keras.losses.categorical_crossentropy,optimizer='SGD',metrics=['accuracy'])\n"
      ],
      "metadata": {
        "id": "TVYuqfCITVA8"
      },
      "execution_count": 7,
      "outputs": []
    },
    {
      "cell_type": "markdown",
      "source": [
        "#Antrenarea Modelului"
      ],
      "metadata": {
        "id": "3T57FgvRTexz"
      }
    },
    {
      "cell_type": "code",
      "source": [
        "hist = model.fit(x_train, y_train, batch_size=batch_size, epochs=epochs, verbose=1, validation_data=(x_test, y_test))\n",
        "print(\"Modelul a fost antrenat cu succes\")"
      ],
      "metadata": {
        "colab": {
          "base_uri": "https://localhost:8080/"
        },
        "id": "zAA2UVcWTgUb",
        "outputId": "d1ceb812-9a88-42c6-bdb9-f3f9f0beee27"
      },
      "execution_count": null,
      "outputs": [
        {
          "output_type": "stream",
          "name": "stdout",
          "text": [
            "Epoch 1/10\n",
            "469/469 [==============================] - 20s 19ms/step - loss: 1.2683 - accuracy: 0.5961 - val_loss: 0.3225 - val_accuracy: 0.9077\n",
            "Epoch 2/10\n",
            "469/469 [==============================] - 8s 18ms/step - loss: 0.4028 - accuracy: 0.8770 - val_loss: 0.2201 - val_accuracy: 0.9335\n",
            "Epoch 3/10\n",
            "469/469 [==============================] - 9s 18ms/step - loss: 0.3078 - accuracy: 0.9063 - val_loss: 0.1786 - val_accuracy: 0.9458\n",
            "Epoch 4/10\n",
            "469/469 [==============================] - 9s 18ms/step - loss: 0.2606 - accuracy: 0.9217 - val_loss: 0.1504 - val_accuracy: 0.9544\n",
            "Epoch 5/10\n",
            "469/469 [==============================] - 8s 18ms/step - loss: 0.2296 - accuracy: 0.9292 - val_loss: 0.1373 - val_accuracy: 0.9561\n",
            "Epoch 6/10\n",
            "469/469 [==============================] - 8s 18ms/step - loss: 0.2089 - accuracy: 0.9360 - val_loss: 0.1202 - val_accuracy: 0.9627\n",
            "Epoch 7/10\n",
            "265/469 [===============>..............] - ETA: 4s - loss: 0.1938 - accuracy: 0.9415"
          ]
        }
      ]
    },
    {
      "cell_type": "markdown",
      "source": [
        "#Salvarea Modelului"
      ],
      "metadata": {
        "id": "fdTb8Nj4ThzM"
      }
    },
    {
      "cell_type": "code",
      "source": [
        "model.save('cnn1.h5')\n",
        "print(\"Modelul a fost salvat ca cnn.h5\")"
      ],
      "metadata": {
        "colab": {
          "base_uri": "https://localhost:8080/"
        },
        "id": "k9oL4cB-TlIs",
        "outputId": "9ba1b47b-f793-478f-ee94-d266da31461a"
      },
      "execution_count": 10,
      "outputs": [
        {
          "output_type": "stream",
          "name": "stdout",
          "text": [
            "Modelul a fost salvat ca cnn.h5\n"
          ]
        }
      ]
    },
    {
      "cell_type": "markdown",
      "source": [
        "#Evaluarea Modelului"
      ],
      "metadata": {
        "id": "iJUJkkWlTm68"
      }
    },
    {
      "cell_type": "code",
      "source": [
        "score = model.evaluate(x_test, y_test, verbose=0)\n",
        "print('Test loss:', score[0])\n",
        "print('Test accuracy:', score[1])"
      ],
      "metadata": {
        "colab": {
          "base_uri": "https://localhost:8080/"
        },
        "id": "r0YOngMmTqfE",
        "outputId": "e8ece3ca-9229-42a8-e5ad-63a0bf7b7869"
      },
      "execution_count": 11,
      "outputs": [
        {
          "output_type": "stream",
          "name": "stdout",
          "text": [
            "Test loss: 0.0942886546254158\n",
            "Test accuracy: 0.9715999960899353\n"
          ]
        }
      ]
    }
  ]
}
{
  "cells": [
    {
      "cell_type": "markdown",
      "metadata": {
        "id": "view-in-github",
        "colab_type": "text"
      },
      "source": [
        "<a href=\"https://colab.research.google.com/github/spaceyyn/atesatInfo/blob/main/Atestat.ipynb\" target=\"_parent\"><img src=\"https://colab.research.google.com/assets/colab-badge.svg\" alt=\"Open In Colab\"/></a>"
      ]
    },
    {
      "cell_type": "markdown",
      "metadata": {
        "id": "5HyOYfckST89"
      },
      "source": [
        "#Codul Sursa\n",
        "Scris de Ramadan Omar, elev al colegiului National \"I.L. Caragiale\" Bucuresti"
      ]
    },
    {
      "cell_type": "markdown",
      "metadata": {
        "id": "DPj5KvJqSdWU"
      },
      "source": [
        "#Importarea librariilor\n"
      ]
    },
    {
      "cell_type": "code",
      "execution_count": null,
      "metadata": {
        "id": "9T4ndTlJSJVM"
      },
      "outputs": [],
      "source": [
        "import tensorflow as tf\n",
        "import keras\n",
        "from keras.datasets import mnist\n",
        "from keras.models import Sequential\n",
        "from keras.layers import Dense, Dropout, Flatten, Conv2D, MaxPooling2D\n",
        "from keras import backend as K\n",
        "import numpy as np"
      ]
    },
    {
      "cell_type": "markdown",
      "metadata": {
        "id": "fVPcmwonSkzF"
      },
      "source": [
        "#Impartirea setului de date intr-un set de antrenament si un set de test"
      ]
    },
    {
      "cell_type": "code",
      "execution_count": null,
      "metadata": {
        "colab": {
          "base_uri": "https://localhost:8080/"
        },
        "id": "UPvD202LSmct",
        "outputId": "98398846-4c44-4006-872f-ea69659af5af"
      },
      "outputs": [
        {
          "name": "stdout",
          "output_type": "stream",
          "text": [
            "Downloading data from https://storage.googleapis.com/tensorflow/tf-keras-datasets/mnist.npz\n",
            "11493376/11490434 [==============================] - 0s 0us/step\n",
            "11501568/11490434 [==============================] - 0s 0us/step\n"
          ]
        }
      ],
      "source": [
        "(x_train, y_train), (x_test, y_test) = mnist.load_data()"
      ]
    },
    {
      "cell_type": "markdown",
      "metadata": {
        "id": "Coy8B8gmSpbl"
      },
      "source": [
        "#Preprocesarea Datelor"
      ]
    },
    {
      "cell_type": "code",
      "execution_count": null,
      "metadata": {
        "id": "VGi-y6oXSwhs"
      },
      "outputs": [],
      "source": [
        "x_train = x_train.reshape(x_train.shape[0], 28, 28, 1) #Am adaugat inca un rand\n",
        "x_test = x_test.reshape(x_test.shape[0], 28, 28, 1) #Pentru CNN\n",
        "input_shape = (28, 28, 1) \n"
      ]
    },
    {
      "cell_type": "markdown",
      "metadata": {
        "id": "Fdgps1MUSzmE"
      },
      "source": [
        "Din vector in matrice binara ( One Hot Encoding )"
      ]
    },
    {
      "cell_type": "code",
      "execution_count": null,
      "metadata": {
        "id": "2oLcODguS4Hs"
      },
      "outputs": [],
      "source": [
        "y_train = tf.keras.utils.to_categorical(y_train, 10) # 10 Cifre\n",
        "y_test = tf.keras.utils.to_categorical(y_test, 10) # 10 Cifre"
      ]
    },
    {
      "cell_type": "markdown",
      "metadata": {
        "id": "xXhsGE_nS5yM"
      },
      "source": [
        "Scalarea pixelilor in [0,1]"
      ]
    },
    {
      "cell_type": "code",
      "execution_count": null,
      "metadata": {
        "id": "at2hUV6VS9Rj"
      },
      "outputs": [],
      "source": [
        "x_train = x_train.astype('float32')\n",
        "x_test = x_test.astype('float32')\n",
        "x_train /= 255\n",
        "x_test /= 255"
      ]
    },
    {
      "cell_type": "markdown",
      "metadata": {
        "id": "-asuoPCvS_oN"
      },
      "source": [
        "\n",
        "#Pregatirea pentru NonLiniaritate"
      ]
    },
    {
      "cell_type": "code",
      "execution_count": null,
      "metadata": {
        "id": "nnX6JxV5TR2r"
      },
      "outputs": [],
      "source": [
        "batch_size = 128\n",
        "epochs = 10"
      ]
    },
    {
      "cell_type": "markdown",
      "metadata": {
        "id": "kY926Fb9TB_M"
      },
      "source": [
        "#Reteaua Neuronala Convolutionala"
      ]
    },
    {
      "cell_type": "code",
      "execution_count": null,
      "metadata": {
        "id": "TVYuqfCITVA8"
      },
      "outputs": [],
      "source": [
        "model = Sequential()\n",
        "model.add(Conv2D(32, kernel_size =(3, 3), activation='relu', input_shape = input_shape))\n",
        "model.add(Conv2D(64, (3, 3), activation= 'relu'))\n",
        "\n",
        "model.add(MaxPooling2D(pool_size=(2, 2)))\n",
        "model.add(Dropout(0.25))\n",
        "model.add(Flatten())\n",
        "\n",
        "model.add(Dense(256, activation='relu'))\n",
        "model.add(Dense(256, activation='relu'))\n",
        "model.add(Dropout(0.5))\n",
        "\n",
        "model.add(Dense(10, activation = 'softmax'))\n",
        "\n",
        "model.compile(loss=keras.losses.categorical_crossentropy,optimizer='SGD',metrics=['accuracy'])\n"
      ]
    },
    {
      "cell_type": "markdown",
      "metadata": {
        "id": "3T57FgvRTexz"
      },
      "source": [
        "#Antrenarea Modelului"
      ]
    },
    {
      "cell_type": "code",
      "execution_count": null,
      "metadata": {
        "colab": {
          "background_save": true,
          "base_uri": "https://localhost:8080/"
        },
        "id": "zAA2UVcWTgUb",
        "outputId": "98a5b76b-1fe8-4539-90bf-5a72335615a1"
      },
      "outputs": [
        {
          "name": "stdout",
          "output_type": "stream",
          "text": [
            "Epoch 1/10\n",
            "469/469 [==============================] - 167s 353ms/step - loss: 1.2064 - accuracy: 0.6160 - val_loss: 0.3120 - val_accuracy: 0.9072\n",
            "Epoch 2/10\n",
            "469/469 [==============================] - 164s 349ms/step - loss: 0.4036 - accuracy: 0.8762 - val_loss: 0.2209 - val_accuracy: 0.9311\n",
            "Epoch 3/10\n",
            "469/469 [==============================] - 162s 346ms/step - loss: 0.3146 - accuracy: 0.9035 - val_loss: 0.1788 - val_accuracy: 0.9448\n",
            "Epoch 4/10\n",
            "469/469 [==============================] - 161s 343ms/step - loss: 0.2666 - accuracy: 0.9190 - val_loss: 0.1526 - val_accuracy: 0.9521\n",
            "Epoch 5/10\n",
            "469/469 [==============================] - 159s 339ms/step - loss: 0.2373 - accuracy: 0.9286 - val_loss: 0.1403 - val_accuracy: 0.9562\n",
            "Epoch 6/10\n",
            "469/469 [==============================] - 160s 342ms/step - loss: 0.2127 - accuracy: 0.9349 - val_loss: 0.1280 - val_accuracy: 0.9603\n",
            "Epoch 7/10\n",
            "469/469 [==============================] - 162s 345ms/step - loss: 0.1983 - accuracy: 0.9391 - val_loss: 0.1190 - val_accuracy: 0.9613\n",
            "Epoch 8/10\n",
            "469/469 [==============================] - 159s 339ms/step - loss: 0.1829 - accuracy: 0.9441 - val_loss: 0.1153 - val_accuracy: 0.9628\n",
            "Epoch 9/10\n",
            "469/469 [==============================] - 160s 341ms/step - loss: 0.1722 - accuracy: 0.9472 - val_loss: 0.1025 - val_accuracy: 0.9688\n",
            "Epoch 10/10\n",
            "469/469 [==============================] - 161s 342ms/step - loss: 0.1613 - accuracy: 0.9499 - val_loss: 0.0971 - val_accuracy: 0.9687\n",
            "Modelul a fost antrenat cu succes\n"
          ]
        }
      ],
      "source": [
        "hist = model.fit(x_train, y_train, batch_size=batch_size, epochs=epochs, verbose=1, validation_data=(x_test, y_test))\n",
        "print(\"Modelul a fost antrenat cu succes\")"
      ]
    },
    {
      "cell_type": "markdown",
      "metadata": {
        "id": "fdTb8Nj4ThzM"
      },
      "source": [
        "#Salvarea Modelului"
      ]
    },
    {
      "cell_type": "code",
      "execution_count": 12,
      "metadata": {
        "id": "k9oL4cB-TlIs",
        "outputId": "8ed82bea-38c5-45dc-fe50-3625737cbfc5",
        "colab": {
          "base_uri": "https://localhost:8080/"
        }
      },
      "outputs": [
        {
          "output_type": "stream",
          "name": "stdout",
          "text": [
            "Modelul a fost salvat ca cnn.h5\n"
          ]
        }
      ],
      "source": [
        "model.save('cnn1.h5')\n",
        "print(\"Modelul a fost salvat ca cnn.h5\")"
      ]
    },
    {
      "cell_type": "markdown",
      "metadata": {
        "id": "iJUJkkWlTm68"
      },
      "source": [
        "#Evaluarea Modelului"
      ]
    },
    {
      "cell_type": "code",
      "execution_count": 13,
      "metadata": {
        "colab": {
          "base_uri": "https://localhost:8080/"
        },
        "id": "r0YOngMmTqfE",
        "outputId": "9bea2a62-d16b-4739-af96-b325691c92ab"
      },
      "outputs": [
        {
          "output_type": "stream",
          "name": "stdout",
          "text": [
            "Test loss: 0.06632429361343384\n",
            "Test accuracy: 0.978600025177002\n"
          ]
        }
      ],
      "source": [
        "score = model.evaluate(x_test, y_test, verbose=0)\n",
        "print('Test loss:', score[0])\n",
        "print('Test accuracy:', score[1])"
      ]
    }
  ],
  "metadata": {
    "accelerator": "GPU",
    "colab": {
      "collapsed_sections": [],
      "name": "Atestat.ipynb",
      "toc_visible": true,
      "provenance": [],
      "authorship_tag": "ABX9TyP+58Lw9hkra67sq8Lfi6Uu",
      "include_colab_link": true
    },
    "kernelspec": {
      "display_name": "Python 3",
      "name": "python3"
    },
    "language_info": {
      "name": "python"
    }
  },
  "nbformat": 4,
  "nbformat_minor": 0
}